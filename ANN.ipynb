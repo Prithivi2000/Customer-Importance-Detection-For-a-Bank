{
 "cells": [
  {
   "cell_type": "code",
   "execution_count": 1,
   "metadata": {},
   "outputs": [],
   "source": [
    "import pandas as pd\n",
    "import numpy as np\n",
    "import tensorflow as tf"
   ]
  },
  {
   "cell_type": "code",
   "execution_count": 2,
   "metadata": {},
   "outputs": [
    {
     "data": {
      "text/html": [
       "<div>\n",
       "<style scoped>\n",
       "    .dataframe tbody tr th:only-of-type {\n",
       "        vertical-align: middle;\n",
       "    }\n",
       "\n",
       "    .dataframe tbody tr th {\n",
       "        vertical-align: top;\n",
       "    }\n",
       "\n",
       "    .dataframe thead th {\n",
       "        text-align: right;\n",
       "    }\n",
       "</style>\n",
       "<table border=\"1\" class=\"dataframe\">\n",
       "  <thead>\n",
       "    <tr style=\"text-align: right;\">\n",
       "      <th></th>\n",
       "      <th>RowNumber</th>\n",
       "      <th>CustomerId</th>\n",
       "      <th>Surname</th>\n",
       "      <th>CreditScore</th>\n",
       "      <th>Geography</th>\n",
       "      <th>Gender</th>\n",
       "      <th>Age</th>\n",
       "      <th>Tenure</th>\n",
       "      <th>Balance</th>\n",
       "      <th>NumOfProducts</th>\n",
       "      <th>HasCrCard</th>\n",
       "      <th>IsActiveMember</th>\n",
       "      <th>EstimatedSalary</th>\n",
       "      <th>Exited</th>\n",
       "    </tr>\n",
       "  </thead>\n",
       "  <tbody>\n",
       "    <tr>\n",
       "      <th>0</th>\n",
       "      <td>1</td>\n",
       "      <td>15634602</td>\n",
       "      <td>Hargrave</td>\n",
       "      <td>619</td>\n",
       "      <td>France</td>\n",
       "      <td>Female</td>\n",
       "      <td>42</td>\n",
       "      <td>2</td>\n",
       "      <td>0.00</td>\n",
       "      <td>1</td>\n",
       "      <td>1</td>\n",
       "      <td>1</td>\n",
       "      <td>101348.88</td>\n",
       "      <td>1</td>\n",
       "    </tr>\n",
       "    <tr>\n",
       "      <th>1</th>\n",
       "      <td>2</td>\n",
       "      <td>15647311</td>\n",
       "      <td>Hill</td>\n",
       "      <td>608</td>\n",
       "      <td>Spain</td>\n",
       "      <td>Female</td>\n",
       "      <td>41</td>\n",
       "      <td>1</td>\n",
       "      <td>83807.86</td>\n",
       "      <td>1</td>\n",
       "      <td>0</td>\n",
       "      <td>1</td>\n",
       "      <td>112542.58</td>\n",
       "      <td>0</td>\n",
       "    </tr>\n",
       "    <tr>\n",
       "      <th>2</th>\n",
       "      <td>3</td>\n",
       "      <td>15619304</td>\n",
       "      <td>Onio</td>\n",
       "      <td>502</td>\n",
       "      <td>France</td>\n",
       "      <td>Female</td>\n",
       "      <td>42</td>\n",
       "      <td>8</td>\n",
       "      <td>159660.80</td>\n",
       "      <td>3</td>\n",
       "      <td>1</td>\n",
       "      <td>0</td>\n",
       "      <td>113931.57</td>\n",
       "      <td>1</td>\n",
       "    </tr>\n",
       "    <tr>\n",
       "      <th>3</th>\n",
       "      <td>4</td>\n",
       "      <td>15701354</td>\n",
       "      <td>Boni</td>\n",
       "      <td>699</td>\n",
       "      <td>France</td>\n",
       "      <td>Female</td>\n",
       "      <td>39</td>\n",
       "      <td>1</td>\n",
       "      <td>0.00</td>\n",
       "      <td>2</td>\n",
       "      <td>0</td>\n",
       "      <td>0</td>\n",
       "      <td>93826.63</td>\n",
       "      <td>0</td>\n",
       "    </tr>\n",
       "    <tr>\n",
       "      <th>4</th>\n",
       "      <td>5</td>\n",
       "      <td>15737888</td>\n",
       "      <td>Mitchell</td>\n",
       "      <td>850</td>\n",
       "      <td>Spain</td>\n",
       "      <td>Female</td>\n",
       "      <td>43</td>\n",
       "      <td>2</td>\n",
       "      <td>125510.82</td>\n",
       "      <td>1</td>\n",
       "      <td>1</td>\n",
       "      <td>1</td>\n",
       "      <td>79084.10</td>\n",
       "      <td>0</td>\n",
       "    </tr>\n",
       "    <tr>\n",
       "      <th>...</th>\n",
       "      <td>...</td>\n",
       "      <td>...</td>\n",
       "      <td>...</td>\n",
       "      <td>...</td>\n",
       "      <td>...</td>\n",
       "      <td>...</td>\n",
       "      <td>...</td>\n",
       "      <td>...</td>\n",
       "      <td>...</td>\n",
       "      <td>...</td>\n",
       "      <td>...</td>\n",
       "      <td>...</td>\n",
       "      <td>...</td>\n",
       "      <td>...</td>\n",
       "    </tr>\n",
       "    <tr>\n",
       "      <th>9995</th>\n",
       "      <td>9996</td>\n",
       "      <td>15606229</td>\n",
       "      <td>Obijiaku</td>\n",
       "      <td>771</td>\n",
       "      <td>France</td>\n",
       "      <td>Male</td>\n",
       "      <td>39</td>\n",
       "      <td>5</td>\n",
       "      <td>0.00</td>\n",
       "      <td>2</td>\n",
       "      <td>1</td>\n",
       "      <td>0</td>\n",
       "      <td>96270.64</td>\n",
       "      <td>0</td>\n",
       "    </tr>\n",
       "    <tr>\n",
       "      <th>9996</th>\n",
       "      <td>9997</td>\n",
       "      <td>15569892</td>\n",
       "      <td>Johnstone</td>\n",
       "      <td>516</td>\n",
       "      <td>France</td>\n",
       "      <td>Male</td>\n",
       "      <td>35</td>\n",
       "      <td>10</td>\n",
       "      <td>57369.61</td>\n",
       "      <td>1</td>\n",
       "      <td>1</td>\n",
       "      <td>1</td>\n",
       "      <td>101699.77</td>\n",
       "      <td>0</td>\n",
       "    </tr>\n",
       "    <tr>\n",
       "      <th>9997</th>\n",
       "      <td>9998</td>\n",
       "      <td>15584532</td>\n",
       "      <td>Liu</td>\n",
       "      <td>709</td>\n",
       "      <td>France</td>\n",
       "      <td>Female</td>\n",
       "      <td>36</td>\n",
       "      <td>7</td>\n",
       "      <td>0.00</td>\n",
       "      <td>1</td>\n",
       "      <td>0</td>\n",
       "      <td>1</td>\n",
       "      <td>42085.58</td>\n",
       "      <td>1</td>\n",
       "    </tr>\n",
       "    <tr>\n",
       "      <th>9998</th>\n",
       "      <td>9999</td>\n",
       "      <td>15682355</td>\n",
       "      <td>Sabbatini</td>\n",
       "      <td>772</td>\n",
       "      <td>Germany</td>\n",
       "      <td>Male</td>\n",
       "      <td>42</td>\n",
       "      <td>3</td>\n",
       "      <td>75075.31</td>\n",
       "      <td>2</td>\n",
       "      <td>1</td>\n",
       "      <td>0</td>\n",
       "      <td>92888.52</td>\n",
       "      <td>1</td>\n",
       "    </tr>\n",
       "    <tr>\n",
       "      <th>9999</th>\n",
       "      <td>10000</td>\n",
       "      <td>15628319</td>\n",
       "      <td>Walker</td>\n",
       "      <td>792</td>\n",
       "      <td>France</td>\n",
       "      <td>Female</td>\n",
       "      <td>28</td>\n",
       "      <td>4</td>\n",
       "      <td>130142.79</td>\n",
       "      <td>1</td>\n",
       "      <td>1</td>\n",
       "      <td>0</td>\n",
       "      <td>38190.78</td>\n",
       "      <td>0</td>\n",
       "    </tr>\n",
       "  </tbody>\n",
       "</table>\n",
       "<p>10000 rows × 14 columns</p>\n",
       "</div>"
      ],
      "text/plain": [
       "      RowNumber  CustomerId    Surname  CreditScore Geography  Gender  Age  \\\n",
       "0             1    15634602   Hargrave          619    France  Female   42   \n",
       "1             2    15647311       Hill          608     Spain  Female   41   \n",
       "2             3    15619304       Onio          502    France  Female   42   \n",
       "3             4    15701354       Boni          699    France  Female   39   \n",
       "4             5    15737888   Mitchell          850     Spain  Female   43   \n",
       "...         ...         ...        ...          ...       ...     ...  ...   \n",
       "9995       9996    15606229   Obijiaku          771    France    Male   39   \n",
       "9996       9997    15569892  Johnstone          516    France    Male   35   \n",
       "9997       9998    15584532        Liu          709    France  Female   36   \n",
       "9998       9999    15682355  Sabbatini          772   Germany    Male   42   \n",
       "9999      10000    15628319     Walker          792    France  Female   28   \n",
       "\n",
       "      Tenure    Balance  NumOfProducts  HasCrCard  IsActiveMember  \\\n",
       "0          2       0.00              1          1               1   \n",
       "1          1   83807.86              1          0               1   \n",
       "2          8  159660.80              3          1               0   \n",
       "3          1       0.00              2          0               0   \n",
       "4          2  125510.82              1          1               1   \n",
       "...      ...        ...            ...        ...             ...   \n",
       "9995       5       0.00              2          1               0   \n",
       "9996      10   57369.61              1          1               1   \n",
       "9997       7       0.00              1          0               1   \n",
       "9998       3   75075.31              2          1               0   \n",
       "9999       4  130142.79              1          1               0   \n",
       "\n",
       "      EstimatedSalary  Exited  \n",
       "0           101348.88       1  \n",
       "1           112542.58       0  \n",
       "2           113931.57       1  \n",
       "3            93826.63       0  \n",
       "4            79084.10       0  \n",
       "...               ...     ...  \n",
       "9995         96270.64       0  \n",
       "9996        101699.77       0  \n",
       "9997         42085.58       1  \n",
       "9998         92888.52       1  \n",
       "9999         38190.78       0  \n",
       "\n",
       "[10000 rows x 14 columns]"
      ]
     },
     "execution_count": 2,
     "metadata": {},
     "output_type": "execute_result"
    }
   ],
   "source": [
    "dataset = pd.read_csv('Churn_Modelling.csv')\n",
    "dataset"
   ]
  },
  {
   "cell_type": "code",
   "execution_count": 3,
   "metadata": {},
   "outputs": [],
   "source": [
    "X = dataset.iloc[:, 3:13].values\n",
    "y = dataset.iloc[:, -1].values"
   ]
  },
  {
   "cell_type": "code",
   "execution_count": 4,
   "metadata": {},
   "outputs": [
    {
     "data": {
      "text/plain": [
       "array([[619, 'France', 'Female', ..., 1, 1, 101348.88],\n",
       "       [608, 'Spain', 'Female', ..., 0, 1, 112542.58],\n",
       "       [502, 'France', 'Female', ..., 1, 0, 113931.57],\n",
       "       ...,\n",
       "       [709, 'France', 'Female', ..., 0, 1, 42085.58],\n",
       "       [772, 'Germany', 'Male', ..., 1, 0, 92888.52],\n",
       "       [792, 'France', 'Female', ..., 1, 0, 38190.78]], dtype=object)"
      ]
     },
     "execution_count": 4,
     "metadata": {},
     "output_type": "execute_result"
    }
   ],
   "source": [
    "X"
   ]
  },
  {
   "cell_type": "code",
   "execution_count": 5,
   "metadata": {},
   "outputs": [
    {
     "data": {
      "text/plain": [
       "array([1, 0, 1, ..., 1, 1, 0], dtype=int64)"
      ]
     },
     "execution_count": 5,
     "metadata": {},
     "output_type": "execute_result"
    }
   ],
   "source": [
    "y"
   ]
  },
  {
   "cell_type": "code",
   "execution_count": 6,
   "metadata": {},
   "outputs": [
    {
     "data": {
      "text/plain": [
       "array([0, 0, 0, ..., 0, 1, 0], dtype=object)"
      ]
     },
     "execution_count": 6,
     "metadata": {},
     "output_type": "execute_result"
    }
   ],
   "source": [
    "from sklearn.preprocessing import LabelEncoder\n",
    "le = LabelEncoder()\n",
    "X[:, 2] = le.fit_transform(X[:,2])\n",
    "X[:, 2]"
   ]
  },
  {
   "cell_type": "code",
   "execution_count": 7,
   "metadata": {},
   "outputs": [
    {
     "data": {
      "text/plain": [
       "array(['France', 'Spain', 'France', ..., 'France', 'Germany', 'France'],\n",
       "      dtype=object)"
      ]
     },
     "execution_count": 7,
     "metadata": {},
     "output_type": "execute_result"
    }
   ],
   "source": [
    "X[:, 1]"
   ]
  },
  {
   "cell_type": "code",
   "execution_count": 8,
   "metadata": {},
   "outputs": [
    {
     "name": "stdout",
     "output_type": "stream",
     "text": [
      "[[1.0 0.0 0.0 ... 1 1 101348.88]\n",
      " [0.0 0.0 1.0 ... 0 1 112542.58]\n",
      " [1.0 0.0 0.0 ... 1 0 113931.57]\n",
      " ...\n",
      " [1.0 0.0 0.0 ... 0 1 42085.58]\n",
      " [0.0 1.0 0.0 ... 1 0 92888.52]\n",
      " [1.0 0.0 0.0 ... 1 0 38190.78]]\n"
     ]
    }
   ],
   "source": [
    "from sklearn.compose import ColumnTransformer\n",
    "from sklearn.preprocessing import OneHotEncoder\n",
    "ct = ColumnTransformer(transformers = [('encoder', OneHotEncoder(), [1])], remainder = 'passthrough')\n",
    "X = np.array(ct.fit_transform(X))\n",
    "print(X)"
   ]
  },
  {
   "cell_type": "code",
   "execution_count": 9,
   "metadata": {},
   "outputs": [],
   "source": [
    "from sklearn.model_selection import train_test_split\n",
    "X_train, X_test, y_train, y_test = train_test_split(X, y, test_size=0.2, random_state=0)"
   ]
  },
  {
   "cell_type": "code",
   "execution_count": 10,
   "metadata": {},
   "outputs": [],
   "source": [
    "from sklearn.preprocessing import StandardScaler\n",
    "sc = StandardScaler()\n",
    "X_train = sc.fit_transform(X_train)\n",
    "X_test = sc.transform(X_test)"
   ]
  },
  {
   "cell_type": "code",
   "execution_count": 11,
   "metadata": {},
   "outputs": [
    {
     "data": {
      "text/plain": [
       "array([[-1.01460667, -0.5698444 ,  1.74309049, ...,  0.64259497,\n",
       "        -1.03227043,  1.10643166],\n",
       "       [-1.01460667,  1.75486502, -0.57369368, ...,  0.64259497,\n",
       "         0.9687384 , -0.74866447],\n",
       "       [ 0.98560362, -0.5698444 , -0.57369368, ...,  0.64259497,\n",
       "        -1.03227043,  1.48533467],\n",
       "       ...,\n",
       "       [ 0.98560362, -0.5698444 , -0.57369368, ...,  0.64259497,\n",
       "        -1.03227043,  1.41231994],\n",
       "       [-1.01460667, -0.5698444 ,  1.74309049, ...,  0.64259497,\n",
       "         0.9687384 ,  0.84432121],\n",
       "       [-1.01460667,  1.75486502, -0.57369368, ...,  0.64259497,\n",
       "        -1.03227043,  0.32472465]])"
      ]
     },
     "execution_count": 11,
     "metadata": {},
     "output_type": "execute_result"
    }
   ],
   "source": [
    "X_train"
   ]
  },
  {
   "cell_type": "markdown",
   "metadata": {},
   "source": [
    "## ANN"
   ]
  },
  {
   "cell_type": "code",
   "execution_count": 12,
   "metadata": {},
   "outputs": [],
   "source": [
    "ann = tf.keras.models.Sequential()"
   ]
  },
  {
   "cell_type": "markdown",
   "metadata": {},
   "source": [
    "## Input layer and 1st hidden layer"
   ]
  },
  {
   "cell_type": "code",
   "execution_count": 13,
   "metadata": {},
   "outputs": [],
   "source": [
    "ann.add(tf.keras.layers.Dense(units = 6, activation='relu'))"
   ]
  },
  {
   "cell_type": "markdown",
   "metadata": {},
   "source": [
    "## 2nd hidden layer"
   ]
  },
  {
   "cell_type": "code",
   "execution_count": 14,
   "metadata": {},
   "outputs": [],
   "source": [
    "ann.add(tf.keras.layers.Dense(units = 6, activation='relu'))"
   ]
  },
  {
   "cell_type": "markdown",
   "metadata": {},
   "source": [
    "## Output Layer"
   ]
  },
  {
   "cell_type": "code",
   "execution_count": 15,
   "metadata": {},
   "outputs": [],
   "source": [
    "ann.add(tf.keras.layers.Dense(units = 1, activation='sigmoid'))"
   ]
  },
  {
   "cell_type": "markdown",
   "metadata": {},
   "source": [
    "## Compiling ANN"
   ]
  },
  {
   "cell_type": "code",
   "execution_count": 16,
   "metadata": {},
   "outputs": [],
   "source": [
    "ann.compile(optimizer='adam' , loss='binary_crossentropy' , metrics=['accuracy'])"
   ]
  },
  {
   "cell_type": "markdown",
   "metadata": {},
   "source": [
    "## Training the ANN"
   ]
  },
  {
   "cell_type": "code",
   "execution_count": 17,
   "metadata": {
    "collapsed": true
   },
   "outputs": [
    {
     "name": "stdout",
     "output_type": "stream",
     "text": [
      "Train on 8000 samples\n",
      "Epoch 1/100\n",
      "8000/8000 [==============================] - 3s 314us/sample - loss: 0.5371 - accuracy: 0.7673\n",
      "Epoch 2/100\n",
      "8000/8000 [==============================] - 1s 78us/sample - loss: 0.4591 - accuracy: 0.7960\n",
      "Epoch 3/100\n",
      "8000/8000 [==============================] - 1s 64us/sample - loss: 0.4369 - accuracy: 0.8021\n",
      "Epoch 4/100\n",
      "8000/8000 [==============================] - 1s 78us/sample - loss: 0.4274 - accuracy: 0.8144\n",
      "Epoch 5/100\n",
      "8000/8000 [==============================] - 1s 104us/sample - loss: 0.4221 - accuracy: 0.8195\n",
      "Epoch 6/100\n",
      "8000/8000 [==============================] - 1s 80us/sample - loss: 0.4174 - accuracy: 0.8229\n",
      "Epoch 7/100\n",
      "8000/8000 [==============================] - 1s 77us/sample - loss: 0.4140 - accuracy: 0.8248\n",
      "Epoch 8/100\n",
      "8000/8000 [==============================] - 1s 72us/sample - loss: 0.4105 - accuracy: 0.8266\n",
      "Epoch 9/100\n",
      "8000/8000 [==============================] - 1s 72us/sample - loss: 0.4074 - accuracy: 0.8280\n",
      "Epoch 10/100\n",
      "8000/8000 [==============================] - 1s 68us/sample - loss: 0.4043 - accuracy: 0.8300\n",
      "Epoch 11/100\n",
      "8000/8000 [==============================] - 1s 69us/sample - loss: 0.4012 - accuracy: 0.8303\n",
      "Epoch 12/100\n",
      "8000/8000 [==============================] - 1s 93us/sample - loss: 0.3986 - accuracy: 0.8313\n",
      "Epoch 13/100\n",
      "8000/8000 [==============================] - 1s 96us/sample - loss: 0.3958 - accuracy: 0.8325\n",
      "Epoch 14/100\n",
      "8000/8000 [==============================] - 1s 86us/sample - loss: 0.3931 - accuracy: 0.8328\n",
      "Epoch 15/100\n",
      "8000/8000 [==============================] - 1s 73us/sample - loss: 0.3899 - accuracy: 0.8329\n",
      "Epoch 16/100\n",
      "8000/8000 [==============================] - 1s 73us/sample - loss: 0.3870 - accuracy: 0.8347\n",
      "Epoch 17/100\n",
      "8000/8000 [==============================] - 1s 71us/sample - loss: 0.3846 - accuracy: 0.8342\n",
      "Epoch 18/100\n",
      "8000/8000 [==============================] - 1s 85us/sample - loss: 0.3818 - accuracy: 0.8339\n",
      "Epoch 19/100\n",
      "8000/8000 [==============================] - 1s 81us/sample - loss: 0.3797 - accuracy: 0.8347\n",
      "Epoch 20/100\n",
      "8000/8000 [==============================] - 1s 70us/sample - loss: 0.3768 - accuracy: 0.8336\n",
      "Epoch 21/100\n",
      "8000/8000 [==============================] - 1s 82us/sample - loss: 0.3746 - accuracy: 0.8435\n",
      "Epoch 22/100\n",
      "8000/8000 [==============================] - 1s 84us/sample - loss: 0.3732 - accuracy: 0.8435\n",
      "Epoch 23/100\n",
      "8000/8000 [==============================] - 1s 83us/sample - loss: 0.3710 - accuracy: 0.8446\n",
      "Epoch 24/100\n",
      "8000/8000 [==============================] - 1s 94us/sample - loss: 0.3690 - accuracy: 0.8464\n",
      "Epoch 25/100\n",
      "8000/8000 [==============================] - 1s 88us/sample - loss: 0.3674 - accuracy: 0.8474\n",
      "Epoch 26/100\n",
      "8000/8000 [==============================] - 1s 67us/sample - loss: 0.3662 - accuracy: 0.8478\n",
      "Epoch 27/100\n",
      "8000/8000 [==============================] - 1s 81us/sample - loss: 0.3645 - accuracy: 0.8495\n",
      "Epoch 28/100\n",
      "8000/8000 [==============================] - 1s 83us/sample - loss: 0.3630 - accuracy: 0.8496\n",
      "Epoch 29/100\n",
      "8000/8000 [==============================] - 1s 73us/sample - loss: 0.3617 - accuracy: 0.8505\n",
      "Epoch 30/100\n",
      "8000/8000 [==============================] - 1s 77us/sample - loss: 0.3616 - accuracy: 0.8506\n",
      "Epoch 31/100\n",
      "8000/8000 [==============================] - 1s 76us/sample - loss: 0.3604 - accuracy: 0.8525\n",
      "Epoch 32/100\n",
      "8000/8000 [==============================] - 1s 76us/sample - loss: 0.3590 - accuracy: 0.8519\n",
      "Epoch 33/100\n",
      "8000/8000 [==============================] - 1s 64us/sample - loss: 0.3581 - accuracy: 0.8524\n",
      "Epoch 34/100\n",
      "8000/8000 [==============================] - 1s 63us/sample - loss: 0.3578 - accuracy: 0.8524\n",
      "Epoch 35/100\n",
      "8000/8000 [==============================] - 1s 65us/sample - loss: 0.3573 - accuracy: 0.8547\n",
      "Epoch 36/100\n",
      "8000/8000 [==============================] - 1s 66us/sample - loss: 0.3562 - accuracy: 0.8551\n",
      "Epoch 37/100\n",
      "8000/8000 [==============================] - 1s 87us/sample - loss: 0.3559 - accuracy: 0.8559\n",
      "Epoch 38/100\n",
      "8000/8000 [==============================] - 1s 66us/sample - loss: 0.3556 - accuracy: 0.8536\n",
      "Epoch 39/100\n",
      "8000/8000 [==============================] - 1s 83us/sample - loss: 0.3548 - accuracy: 0.8547\n",
      "Epoch 40/100\n",
      "8000/8000 [==============================] - 1s 65us/sample - loss: 0.3548 - accuracy: 0.8554\n",
      "Epoch 41/100\n",
      "8000/8000 [==============================] - 1s 76us/sample - loss: 0.3545 - accuracy: 0.8543\n",
      "Epoch 42/100\n",
      "8000/8000 [==============================] - 1s 68us/sample - loss: 0.3534 - accuracy: 0.8569\n",
      "Epoch 43/100\n",
      "8000/8000 [==============================] - 1s 63us/sample - loss: 0.3531 - accuracy: 0.8565\n",
      "Epoch 44/100\n",
      "8000/8000 [==============================] - 1s 65us/sample - loss: 0.3527 - accuracy: 0.8566\n",
      "Epoch 45/100\n",
      "8000/8000 [==============================] - 1s 63us/sample - loss: 0.3524 - accuracy: 0.8576\n",
      "Epoch 46/100\n",
      "8000/8000 [==============================] - 1s 77us/sample - loss: 0.3517 - accuracy: 0.8569\n",
      "Epoch 47/100\n",
      "8000/8000 [==============================] - 1s 63us/sample - loss: 0.3517 - accuracy: 0.8565\n",
      "Epoch 48/100\n",
      "8000/8000 [==============================] - 1s 64us/sample - loss: 0.3514 - accuracy: 0.8587\n",
      "Epoch 49/100\n",
      "8000/8000 [==============================] - 1s 63us/sample - loss: 0.3511 - accuracy: 0.8565\n",
      "Epoch 50/100\n",
      "8000/8000 [==============================] - 1s 64us/sample - loss: 0.3508 - accuracy: 0.8579\n",
      "Epoch 51/100\n",
      "8000/8000 [==============================] - 1s 63us/sample - loss: 0.3503 - accuracy: 0.8581\n",
      "Epoch 52/100\n",
      "8000/8000 [==============================] - 1s 80us/sample - loss: 0.3498 - accuracy: 0.8558\n",
      "Epoch 53/100\n",
      "8000/8000 [==============================] - 1s 63us/sample - loss: 0.3497 - accuracy: 0.8591\n",
      "Epoch 54/100\n",
      "8000/8000 [==============================] - 0s 62us/sample - loss: 0.3496 - accuracy: 0.8590\n",
      "Epoch 55/100\n",
      "8000/8000 [==============================] - 1s 64us/sample - loss: 0.3486 - accuracy: 0.8583\n",
      "Epoch 56/100\n",
      "8000/8000 [==============================] - 1s 63us/sample - loss: 0.3490 - accuracy: 0.8572\n",
      "Epoch 57/100\n",
      "8000/8000 [==============================] - 1s 65us/sample - loss: 0.3488 - accuracy: 0.8584\n",
      "Epoch 58/100\n",
      "8000/8000 [==============================] - 1s 73us/sample - loss: 0.3481 - accuracy: 0.8574\n",
      "Epoch 59/100\n",
      "8000/8000 [==============================] - 1s 79us/sample - loss: 0.3479 - accuracy: 0.8589\n",
      "Epoch 60/100\n",
      "8000/8000 [==============================] - 1s 72us/sample - loss: 0.3479 - accuracy: 0.8595\n",
      "Epoch 61/100\n",
      "8000/8000 [==============================] - 1s 76us/sample - loss: 0.3471 - accuracy: 0.8583\n",
      "Epoch 62/100\n",
      "8000/8000 [==============================] - 1s 64us/sample - loss: 0.3461 - accuracy: 0.8572\n",
      "Epoch 63/100\n",
      "8000/8000 [==============================] - 1s 80us/sample - loss: 0.3459 - accuracy: 0.8611\n",
      "Epoch 64/100\n",
      "8000/8000 [==============================] - 1s 78us/sample - loss: 0.3458 - accuracy: 0.8608\n",
      "Epoch 65/100\n",
      "8000/8000 [==============================] - 0s 62us/sample - loss: 0.3455 - accuracy: 0.8599\n",
      "Epoch 66/100\n",
      "8000/8000 [==============================] - 1s 66us/sample - loss: 0.3454 - accuracy: 0.8576\n",
      "Epoch 67/100\n",
      "8000/8000 [==============================] - 1s 75us/sample - loss: 0.3449 - accuracy: 0.8594\n",
      "Epoch 68/100\n",
      "8000/8000 [==============================] - 1s 66us/sample - loss: 0.3444 - accuracy: 0.8576\n",
      "Epoch 69/100\n",
      "8000/8000 [==============================] - 1s 63us/sample - loss: 0.3441 - accuracy: 0.8606\n",
      "Epoch 70/100\n",
      "8000/8000 [==============================] - 1s 67us/sample - loss: 0.3438 - accuracy: 0.8587\n",
      "Epoch 71/100\n",
      "8000/8000 [==============================] - 1s 70us/sample - loss: 0.3436 - accuracy: 0.8596\n",
      "Epoch 72/100\n",
      "8000/8000 [==============================] - 1s 63us/sample - loss: 0.3433 - accuracy: 0.8589\n",
      "Epoch 73/100\n",
      "8000/8000 [==============================] - 1s 64us/sample - loss: 0.3426 - accuracy: 0.8604\n",
      "Epoch 74/100\n",
      "8000/8000 [==============================] - 1s 64us/sample - loss: 0.3429 - accuracy: 0.8596\n",
      "Epoch 75/100\n",
      "8000/8000 [==============================] - 1s 65us/sample - loss: 0.3428 - accuracy: 0.8594\n",
      "Epoch 76/100\n",
      "8000/8000 [==============================] - 1s 64us/sample - loss: 0.3426 - accuracy: 0.8597\n",
      "Epoch 77/100\n"
     ]
    },
    {
     "name": "stdout",
     "output_type": "stream",
     "text": [
      "8000/8000 [==============================] - 1s 74us/sample - loss: 0.3426 - accuracy: 0.8586\n",
      "Epoch 78/100\n",
      "8000/8000 [==============================] - 1s 70us/sample - loss: 0.3420 - accuracy: 0.8612\n",
      "Epoch 79/100\n",
      "8000/8000 [==============================] - 1s 64us/sample - loss: 0.3424 - accuracy: 0.8594\n",
      "Epoch 80/100\n",
      "8000/8000 [==============================] - 1s 64us/sample - loss: 0.3419 - accuracy: 0.8594\n",
      "Epoch 81/100\n",
      "8000/8000 [==============================] - 1s 69us/sample - loss: 0.3417 - accuracy: 0.8611\n",
      "Epoch 82/100\n",
      "8000/8000 [==============================] - 1s 71us/sample - loss: 0.3418 - accuracy: 0.8584\n",
      "Epoch 83/100\n",
      "8000/8000 [==============================] - 1s 69us/sample - loss: 0.3415 - accuracy: 0.8608\n",
      "Epoch 84/100\n",
      "8000/8000 [==============================] - 1s 70us/sample - loss: 0.3420 - accuracy: 0.8590\n",
      "Epoch 85/100\n",
      "8000/8000 [==============================] - 1s 69us/sample - loss: 0.3412 - accuracy: 0.8599\n",
      "Epoch 86/100\n",
      "8000/8000 [==============================] - 1s 70us/sample - loss: 0.3415 - accuracy: 0.8597\n",
      "Epoch 87/100\n",
      "8000/8000 [==============================] - 1s 79us/sample - loss: 0.3410 - accuracy: 0.8600\n",
      "Epoch 88/100\n",
      "8000/8000 [==============================] - 1s 90us/sample - loss: 0.3411 - accuracy: 0.8609\n",
      "Epoch 89/100\n",
      "8000/8000 [==============================] - 1s 79us/sample - loss: 0.3411 - accuracy: 0.8595\n",
      "Epoch 90/100\n",
      "8000/8000 [==============================] - 1s 80us/sample - loss: 0.3413 - accuracy: 0.8593s - loss: 0.3460 \n",
      "Epoch 91/100\n",
      "8000/8000 [==============================] - 1s 69us/sample - loss: 0.3405 - accuracy: 0.8610\n",
      "Epoch 92/100\n",
      "8000/8000 [==============================] - 1s 69us/sample - loss: 0.3409 - accuracy: 0.8609\n",
      "Epoch 93/100\n",
      "8000/8000 [==============================] - 1s 69us/sample - loss: 0.3407 - accuracy: 0.8604\n",
      "Epoch 94/100\n",
      "8000/8000 [==============================] - 1s 69us/sample - loss: 0.3409 - accuracy: 0.8596\n",
      "Epoch 95/100\n",
      "8000/8000 [==============================] - 1s 71us/sample - loss: 0.3402 - accuracy: 0.8599\n",
      "Epoch 96/100\n",
      "8000/8000 [==============================] - 1s 69us/sample - loss: 0.3403 - accuracy: 0.8596\n",
      "Epoch 97/100\n",
      "8000/8000 [==============================] - 1s 70us/sample - loss: 0.3404 - accuracy: 0.8601\n",
      "Epoch 98/100\n",
      "8000/8000 [==============================] - 1s 69us/sample - loss: 0.3405 - accuracy: 0.8601\n",
      "Epoch 99/100\n",
      "8000/8000 [==============================] - 1s 69us/sample - loss: 0.3400 - accuracy: 0.8610\n",
      "Epoch 100/100\n",
      "8000/8000 [==============================] - 1s 68us/sample - loss: 0.3400 - accuracy: 0.8597\n"
     ]
    },
    {
     "data": {
      "text/plain": [
       "<tensorflow.python.keras.callbacks.History at 0x129418416c8>"
      ]
     },
     "execution_count": 17,
     "metadata": {},
     "output_type": "execute_result"
    }
   ],
   "source": [
    "ann.fit(X_train, y_train, batch_size=32, epochs=100)"
   ]
  },
  {
   "cell_type": "markdown",
   "metadata": {},
   "source": [
    "## Make predictions and evaluating the model"
   ]
  },
  {
   "cell_type": "code",
   "execution_count": 18,
   "metadata": {},
   "outputs": [
    {
     "name": "stdout",
     "output_type": "stream",
     "text": [
      "[[False]]\n"
     ]
    }
   ],
   "source": [
    "print(ann.predict(sc.transform([[1, 0, 0, 600, 1, 40, 3, 60000, 2, 1, 1, 50000 ]])) > 0.5)"
   ]
  },
  {
   "cell_type": "markdown",
   "metadata": {},
   "source": [
    "## Predicting Test Results"
   ]
  },
  {
   "cell_type": "code",
   "execution_count": 19,
   "metadata": {},
   "outputs": [
    {
     "name": "stdout",
     "output_type": "stream",
     "text": [
      "[[0 0]\n",
      " [0 1]\n",
      " [0 0]\n",
      " ...\n",
      " [0 0]\n",
      " [0 0]\n",
      " [0 0]]\n"
     ]
    }
   ],
   "source": [
    "y_pred = ann.predict(X_test)\n",
    "y_pred = (y_pred>0.5)\n",
    "np.set_printoptions(precision = 2)\n",
    "print(np.concatenate((y_pred.reshape(len(y_pred), 1), y_test.reshape(len(y_test), 1)), 1))"
   ]
  },
  {
   "cell_type": "markdown",
   "metadata": {},
   "source": [
    "## Confusion Matrix"
   ]
  },
  {
   "cell_type": "code",
   "execution_count": 20,
   "metadata": {},
   "outputs": [
    {
     "name": "stdout",
     "output_type": "stream",
     "text": [
      "[[1510   85]\n",
      " [ 201  204]]\n"
     ]
    }
   ],
   "source": [
    "from sklearn.metrics import confusion_matrix\n",
    "cm = confusion_matrix(y_test, y_pred)\n",
    "print(cm)"
   ]
  },
  {
   "cell_type": "code",
   "execution_count": 21,
   "metadata": {},
   "outputs": [
    {
     "data": {
      "text/plain": [
       "0.857"
      ]
     },
     "execution_count": 21,
     "metadata": {},
     "output_type": "execute_result"
    }
   ],
   "source": [
    "from sklearn.metrics import accuracy_score\n",
    "accuracy_score(y_test, y_pred)"
   ]
  },
  {
   "cell_type": "code",
   "execution_count": null,
   "metadata": {},
   "outputs": [],
   "source": []
  }
 ],
 "metadata": {
  "kernelspec": {
   "display_name": "Python 3",
   "language": "python",
   "name": "python3"
  },
  "language_info": {
   "codemirror_mode": {
    "name": "ipython",
    "version": 3
   },
   "file_extension": ".py",
   "mimetype": "text/x-python",
   "name": "python",
   "nbconvert_exporter": "python",
   "pygments_lexer": "ipython3",
   "version": "3.7.7"
  }
 },
 "nbformat": 4,
 "nbformat_minor": 4
}
